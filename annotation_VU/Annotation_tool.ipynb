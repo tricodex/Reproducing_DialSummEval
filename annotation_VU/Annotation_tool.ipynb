{
 "cells": [
  {
   "cell_type": "markdown",
   "metadata": {},
   "source": [
    "#### Install"
   ]
  },
  {
   "cell_type": "markdown",
   "metadata": {},
   "source": [
    "```pip install ipywidgets```\n",
    "```jupyter nbextension enable --py widgetsnbextension```\n",
    "\n",
    "For the following command I would get an error which was fixed by installing Node.js which for Mac you can do by downloading it from their website https://nodejs.org/en/: \n",
    "\n",
    "```jupyter labextension install @jupyter-widgets/jupyterlab-manager```"
   ]
  },
  {
   "cell_type": "markdown",
   "metadata": {},
   "source": [
    "#### Set parameters!"
   ]
  },
  {
   "cell_type": "code",
   "execution_count": 1,
   "metadata": {},
   "outputs": [],
   "source": [
    "# imports\n",
    "import ipywidgets as w\n",
    "import numpy as np\n",
    "import pandas as pd\n",
    "import csv\n",
    "from collections import defaultdict\n",
    "pd.set_option('display.max_colwidth', 0)"
   ]
  },
  {
   "cell_type": "code",
   "execution_count": 2,
   "metadata": {},
   "outputs": [],
   "source": [
    "load = True            # if not the first time, and you want to load earlier saved data\n",
    "index = 1      #'explanation'   # if loading annotated data, enter index where you left off last time\n",
    "annotator_number = 1        # note which annotator number you have been given\n",
    "# update for your own use\n",
    "path = 'data/human_judgment.jsonl'"
   ]
  },
  {
   "cell_type": "markdown",
   "metadata": {},
   "source": [
    "#### Functionality"
   ]
  },
  {
   "cell_type": "code",
   "execution_count": 3,
   "metadata": {},
   "outputs": [],
   "source": [
    "# setting up data\n",
    "if load == False:\n",
    "    data = pd.read_json(path, lines=True)\n",
    "\n",
    "    def htmlivize(val):\n",
    "        return val.replace('|','<br><br>')\n",
    "    data.dialogue = data.dialogue.transform(htmlivize)\n",
    "\n",
    "    line = f\" <br> -------------------------------------------------------------------------------------------------- <br>\"\n",
    "    summary_start = \"<font color='blue'> Summary: </font> \"\n",
    "    data['text'] = data['dialogue'] + line + summary_start + data['summary']\n",
    "\n",
    "    df = pd.DataFrame(list(data.text), columns = ['texts'])\n",
    "\n",
    "    \n",
    "    df['texts'] = df.texts.replace(replace_dict)\n",
    "    df['coherence_results'] = 0\n",
    "    df['consistency_results'] = 0\n",
    "    df['relevance_results'] = 0\n",
    "    df['fluency_results'] = 0\n",
    "    df['comments'] = 'Any Comments?'\n",
    "\n",
    "else:\n",
    "    df = pd.read_csv(f'saved_df_ann{annotator_number}.csv', delimiter=';')\n"
   ]
  },
  {
   "cell_type": "code",
   "execution_count": 4,
   "metadata": {},
   "outputs": [],
   "source": [
    "# explanation text\n",
    "explanation = \"This is the annotaiton tool. We will go through every dialogue where you will annotate each summary.\\\n",
    "                <br> 4 sliders are presented, adjust the sliders and click 'next'. the slider values are stored in the dataframe.\\\n",
    "                <br> The sliders are not reset when going to a new summary. You can go to the previous summary if you want to change something.\\\n",
    "                <br> Note that you will have to adjust the sliders again when you go to the next.\\\n",
    "                <br><br> When you are done, press 'finish'\\\n",
    "                <br> If you want to take a break, press pause. The data is then stored and you can continue next time.\""
   ]
  },
  {
   "cell_type": "code",
   "execution_count": 5,
   "metadata": {},
   "outputs": [],
   "source": [
    "# sliders\n",
    "coherence = w.IntSlider(value=3,\n",
    "    min=1,\n",
    "    max=5,\n",
    "    step=1,\n",
    "    description='Coherence:',\n",
    "    disabled=False,\n",
    "    continuous_update=False,\n",
    "    orientation='horizontal',\n",
    "    readout=True,\n",
    "    readout_format='d')\n",
    "\n",
    "consistency = w.IntSlider(value=3,\n",
    "    min=1,\n",
    "    max=5,\n",
    "    step=1,\n",
    "    description='Consistency:',\n",
    "    disabled=False,\n",
    "    continuous_update=False,\n",
    "    orientation='horizontal',\n",
    "    readout=True,\n",
    "    readout_format='d')\n",
    "\n",
    "relevance = w.IntSlider(value=3,\n",
    "    min=1,\n",
    "    max=5,\n",
    "    step=1,\n",
    "    description='Relevance:',\n",
    "    disabled=False,\n",
    "    continuous_update=False,\n",
    "    orientation='horizontal',\n",
    "    readout=True,\n",
    "    readout_format='d')\n",
    "\n",
    "fluency = w.IntSlider(value=3,\n",
    "    min=1,\n",
    "    max=5,\n",
    "    step=1,\n",
    "    description='Fluency:',\n",
    "    disabled=False,\n",
    "    continuous_update=False,\n",
    "    orientation='horizontal',\n",
    "    readout=True,\n",
    "    readout_format='d')\n",
    "\n",
    "comments = w.Textarea(value='Any comments?')"
   ]
  },
  {
   "cell_type": "code",
   "execution_count": 6,
   "metadata": {},
   "outputs": [],
   "source": [
    "# Prepare button functionality\n",
    "def next(b):\n",
    "    global df, index, out, progression\n",
    "    \n",
    "    if index == 'explanation':\n",
    "        index = 0\n",
    "        progress_text.value=f'Current index: {index}'\n",
    "        \n",
    "        comments.value=df.loc[index,'comments']\n",
    "        coherence.value = df.loc[index,'coherence_results']\n",
    "        consistency.value = df.loc[index,'consistency_results']\n",
    "        relevance.value = df.loc[index,'relevance_results']\n",
    "        fluency.value = df.loc[index,'fluency_results']\n",
    "        text = w.HTMLMath(value=df.loc[index, 'texts'])\n",
    "        \n",
    "        with out:\n",
    "            out.clear_output()\n",
    "            display(text)\n",
    "\n",
    "    elif index == len(df):\n",
    "        progress_text.value=f'Current index: {index}'\n",
    "        text = w.HTMLMath(value='STOP <br> You are done!!!')\n",
    "        with out:\n",
    "            out.clear_output()\n",
    "            display(text)\n",
    "\n",
    "    else:\n",
    "        progression.value = index+1\n",
    "        \n",
    "        # add current slider values to df\n",
    "        df.loc[index,'coherence_results'] = coherence.value\n",
    "        df.loc[index,'consistency_results'] = consistency.value\n",
    "        df.loc[index,'relevance_results'] = relevance.value\n",
    "        df.loc[index,'fluency_results'] = fluency.value\n",
    "        df.loc[index, 'comments'] = comments.value\n",
    "\n",
    "        index+=1\n",
    "        if index == len(df):\n",
    "            text = w.HTMLMath(value='STOP <br> You are done!!!')\n",
    "            progress_text.value=f'Current index: {index}'\n",
    "            \n",
    "            with out:\n",
    "                out.clear_output()\n",
    "                display(text)\n",
    "        \n",
    "        else:\n",
    "            comments.value=df.loc[index,'comments']\n",
    "            coherence.value = df.loc[index,'coherence_results']\n",
    "            consistency.value = df.loc[index,'consistency_results']\n",
    "            relevance.value = df.loc[index,'relevance_results']\n",
    "            fluency.value = df.loc[index,'fluency_results']\n",
    "\n",
    "            progress_text.value=f'Current index: {index}'\n",
    "            text = w.HTMLMath(value=df.loc[index, 'texts'])\n",
    "            # was trying to update the texts show, but does not work\n",
    "            with out:\n",
    "                out.clear_output()\n",
    "                display(text)\n",
    "\n",
    "def small_next(b):\n",
    "    # update position\n",
    "    global df, index, out, progression\n",
    "\n",
    "    if index == 'explanation':\n",
    "        index = 0\n",
    "        progression.value = index+1\n",
    "\n",
    "        comments.value=df.loc[index,'comments']\n",
    "        coherence.value = df.loc[index,'coherence_results']\n",
    "        consistency.value = df.loc[index,'consistency_results']\n",
    "        relevance.value = df.loc[index,'relevance_results']\n",
    "        fluency.value = df.loc[index,'fluency_results']\n",
    "\n",
    "    else:\n",
    "        index += 1\n",
    "    \n",
    "    if index == len(df):\n",
    "        index=0\n",
    "\n",
    "    progress_text.value=f'Current index: {index}'\n",
    "    \n",
    "    comments.value=df.loc[index,'comments']\n",
    "    coherence.value = df.loc[index,'coherence_results']\n",
    "    consistency.value = df.loc[index,'consistency_results']\n",
    "    relevance.value = df.loc[index,'relevance_results']\n",
    "    fluency.value = df.loc[index,'fluency_results']\n",
    "\n",
    "\n",
    "    # refresh display\n",
    "    text = w.HTMLMath(value=df.loc[index, 'texts'])\n",
    "    with out:\n",
    "        out.clear_output()\n",
    "        display(text)\n",
    "\n",
    "def back(b):\n",
    "    # update position\n",
    "    global df, index, out, progression\n",
    "\n",
    "    if index == 'explanation':\n",
    "        progression.value = 0\n",
    "        index = 'explanation'\n",
    "        progress_text.value=f'Current index: {index}'\n",
    "        text = w.HTMLMath(value=explanation)\n",
    "\n",
    "    else:\n",
    "        index -= 1\n",
    "        if index == -1:\n",
    "            progression.value = 0\n",
    "            index = 'explanation'\n",
    "            progress_text.value=f'Current index: {index}'\n",
    "            text = w.HTMLMath(value=explanation)\n",
    "\n",
    "        \n",
    "\n",
    "        else:\n",
    "            progression.value = index+1\n",
    "            progress_text.value=f'Current index: {index}'\n",
    "\n",
    "            comments.value = df.loc[index,'comments']\n",
    "            coherence.value = df.loc[index,'coherence_results']\n",
    "            consistency.value = df.loc[index,'consistency_results']\n",
    "            relevance.value = df.loc[index,'relevance_results']\n",
    "            fluency.value = df.loc[index,'fluency_results']\n",
    "\n",
    "            text = w.HTMLMath(value=df.loc[index, 'texts'])\n",
    "        \n",
    "        with out:\n",
    "            out.clear_output()\n",
    "            display(text)\n",
    "\n",
    "def pause_annotation(b):\n",
    "    global index, df\n",
    "    # store temp data\n",
    "    df.to_csv(f'saved_df_ann{annotator_number}.csv', sep=';',index=False)\n",
    "\n",
    "    text = w.HTMLMath(value=f'You paused annotation! Data is stored on your local drive. <br>\\\n",
    "                            Next time, add below index in top of notebook to continue where you left off.\\\n",
    "                            <br><br> Stopped at index: {index}')\n",
    "    with out:\n",
    "        out.clear_output()\n",
    "        display(text)\n",
    "\n",
    "\n",
    "def finish(b):\n",
    "    global df\n",
    "    # store data\n",
    "    df.to_csv(f'saved_df_ann{annotator_number}.csv', sep=';',index=False)\n",
    "\n",
    "\n",
    "    # notify user\n",
    "    text = w.HTMLMath(value=f'You have finished annotating! The data is stored on the drive')\n",
    "    with out:\n",
    "        out.clear_output()\n",
    "        display(text)\n"
   ]
  },
  {
   "cell_type": "code",
   "execution_count": 7,
   "metadata": {},
   "outputs": [],
   "source": [
    "# Compose widget\n",
    "\n",
    "# set initial Dialogue\n",
    "if index == 'explanation':\n",
    "    text = w.HTMLMath(value=explanation)\n",
    "    \n",
    "else:\n",
    "    text = w.HTMLMath(value=df.loc[index, 'texts'])\n",
    "\n",
    "out = w.Output()\n",
    "with out:\n",
    "    out.clear_output()\n",
    "    display(text)\n",
    "\n",
    "# save work button\n",
    "forward = w.Button(description='Save and Next', icon='forward')\n",
    "forward.on_click(next)\n",
    "small_forward = w.Button(description='Next', icon='arrow-right')\n",
    "small_forward.on_click(small_next)\n",
    "\n",
    "previous =  w.Button(description='Previous',icon='arrow-left')\n",
    "previous.on_click(back)\n",
    "\n",
    "pause = w.Button(description='Pause and store data',icon='download')\n",
    "pause.on_click(pause_annotation)\n",
    "fin = w.Button(description='Finish',icon='check')\n",
    "fin.on_click(finish)\n",
    "\n",
    "progression_bar = w.IntProgress(\n",
    "    value=0,\n",
    "    min=0,\n",
    "    max=len(df),\n",
    "    description='Progress',\n",
    "    bar_style='', # 'success', 'info', 'warning', 'danger' or ''\n",
    "    style={'bar_color': 'cyan'},\n",
    "    orientation='horizontal'\n",
    ")\n",
    "\n",
    "progress_text = w.HTMLMath(value=f'Current index: {index}')\n",
    "\n",
    "\n",
    "# sliders & buttons\n",
    "sliders = w.VBox([relevance, consistency, fluency, coherence])\n",
    "buttons = w.HBox([previous, small_forward, forward, pause, fin])\n",
    "progression = w.HBox([progression_bar, progress_text])"
   ]
  },
  {
   "cell_type": "markdown",
   "metadata": {},
   "source": [
    "#### Run!"
   ]
  },
  {
   "cell_type": "code",
   "execution_count": 8,
   "metadata": {},
   "outputs": [
    {
     "data": {
      "application/vnd.jupyter.widget-view+json": {
       "model_id": "71f56d6f9e024edb88e1f77c30b1680c",
       "version_major": 2,
       "version_minor": 0
      },
      "text/plain": [
       "Output(outputs=({'output_type': 'display_data', 'data': {'text/plain': 'HTMLMath(value=\"<br><br> Elena: Happy …"
      ]
     },
     "metadata": {},
     "output_type": "display_data"
    },
    {
     "data": {
      "application/vnd.jupyter.widget-view+json": {
       "model_id": "d15015678aae45c78407bbf96987a4d7",
       "version_major": 2,
       "version_minor": 0
      },
      "text/plain": [
       "VBox(children=(IntSlider(value=3, continuous_update=False, description='Relevance:', max=5, min=1), IntSlider(…"
      ]
     },
     "metadata": {},
     "output_type": "display_data"
    },
    {
     "data": {
      "application/vnd.jupyter.widget-view+json": {
       "model_id": "ca3a36cd002147eaa5748f8321e04ea0",
       "version_major": 2,
       "version_minor": 0
      },
      "text/plain": [
       "Textarea(value='Any comments?')"
      ]
     },
     "metadata": {},
     "output_type": "display_data"
    },
    {
     "data": {
      "application/vnd.jupyter.widget-view+json": {
       "model_id": "6a55300ea7824ceeaaa9a0564baec98a",
       "version_major": 2,
       "version_minor": 0
      },
      "text/plain": [
       "HBox(children=(IntProgress(value=0, description='Progress', max=1400, style=ProgressStyle(bar_color='cyan')), …"
      ]
     },
     "metadata": {},
     "output_type": "display_data"
    },
    {
     "data": {
      "application/vnd.jupyter.widget-view+json": {
       "model_id": "30e2027c11cb41468cbcde40937b1271",
       "version_major": 2,
       "version_minor": 0
      },
      "text/plain": [
       "HBox(children=(Button(description='Previous', icon='arrow-left', style=ButtonStyle()), Button(description='Nex…"
      ]
     },
     "metadata": {},
     "output_type": "display_data"
    }
   ],
   "source": [
    "# run widget\n",
    "display(out)\n",
    "display(sliders)\n",
    "display(comments)\n",
    "display(progression)\n",
    "display(buttons)"
   ]
  },
  {
   "cell_type": "code",
   "execution_count": 9,
   "metadata": {},
   "outputs": [
    {
     "data": {
      "text/html": [
       "<div>\n",
       "<style scoped>\n",
       "    .dataframe tbody tr th:only-of-type {\n",
       "        vertical-align: middle;\n",
       "    }\n",
       "\n",
       "    .dataframe tbody tr th {\n",
       "        vertical-align: top;\n",
       "    }\n",
       "\n",
       "    .dataframe thead th {\n",
       "        text-align: right;\n",
       "    }\n",
       "</style>\n",
       "<table border=\"1\" class=\"dataframe\">\n",
       "  <thead>\n",
       "    <tr style=\"text-align: right;\">\n",
       "      <th></th>\n",
       "      <th>texts</th>\n",
       "      <th>coherence_results</th>\n",
       "      <th>consistency_results</th>\n",
       "      <th>relevance_results</th>\n",
       "      <th>fluency_results</th>\n",
       "      <th>comments</th>\n",
       "    </tr>\n",
       "  </thead>\n",
       "  <tbody>\n",
       "    <tr>\n",
       "      <th>1104</th>\n",
       "      <td>&lt;br&gt;&lt;br&gt; Rita: I need some info on you client. &lt;br&gt;&lt;br&gt; Helen: Which one? &lt;br&gt;&lt;br&gt; Rita: Salvage Industries. &lt;br&gt;&lt;br&gt; Helen: Yeah? What do you need? &lt;br&gt;&lt;br&gt; Rita: What's their major business. &lt;br&gt;&lt;br&gt; Helen: They are into waste disposal. &lt;br&gt;&lt;br&gt; Rita: I thought so. &lt;br&gt;&lt;br&gt; Rita: You think they are legit. &lt;br&gt;&lt;br&gt; Helen: What do you mean?! &lt;br&gt;&lt;br&gt; Helen: Of course, they are legit. &lt;br&gt;&lt;br&gt; Rita: Got a favor to ask. Can you double check if they have no PR problems? &lt;br&gt;&lt;br&gt; Helen: I don't think so. But I'll check it for you. &lt;br&gt;&lt;br&gt; Rita: You are a dear, Helen. &lt;br&gt;&lt;br&gt; Helen: I sure am:) &lt;br&gt; -------------------------------------------------------------------------------------------------- &lt;br&gt;&lt;font color='blue'&gt; Summary: &lt;/font&gt; Helen will double check if Rita's client Salvage Industries is legit.</td>\n",
       "      <td>4</td>\n",
       "      <td>3</td>\n",
       "      <td>4</td>\n",
       "      <td>5</td>\n",
       "      <td>Any comments?</td>\n",
       "    </tr>\n",
       "    <tr>\n",
       "      <th>1105</th>\n",
       "      <td>&lt;br&gt;&lt;br&gt; Rita: I need some info on you client. &lt;br&gt;&lt;br&gt; Helen: Which one? &lt;br&gt;&lt;br&gt; Rita: Salvage Industries. &lt;br&gt;&lt;br&gt; Helen: Yeah? What do you need? &lt;br&gt;&lt;br&gt; Rita: What's their major business. &lt;br&gt;&lt;br&gt; Helen: They are into waste disposal. &lt;br&gt;&lt;br&gt; Rita: I thought so. &lt;br&gt;&lt;br&gt; Rita: You think they are legit. &lt;br&gt;&lt;br&gt; Helen: What do you mean?! &lt;br&gt;&lt;br&gt; Helen: Of course, they are legit. &lt;br&gt;&lt;br&gt; Rita: Got a favor to ask. Can you double check if they have no PR problems? &lt;br&gt;&lt;br&gt; Helen: I don't think so. But I'll check it for you. &lt;br&gt;&lt;br&gt; Rita: You are a dear, Helen. &lt;br&gt;&lt;br&gt; Helen: I sure am:) &lt;br&gt; -------------------------------------------------------------------------------------------------- &lt;br&gt;&lt;font color='blue'&gt; Summary: &lt;/font&gt; Rita needs some info on Helen's client Salvage Industries.</td>\n",
       "      <td>4</td>\n",
       "      <td>5</td>\n",
       "      <td>3</td>\n",
       "      <td>5</td>\n",
       "      <td>Any comments?</td>\n",
       "    </tr>\n",
       "    <tr>\n",
       "      <th>1106</th>\n",
       "      <td>&lt;br&gt;&lt;br&gt; Tricia: The cake is still not ready. &lt;br&gt;&lt;br&gt; Zandra: Which cake? &lt;br&gt;&lt;br&gt; Tricia: For your daughter’s birthday, Tam ;) &lt;br&gt;&lt;br&gt; Zandra: Oh, of course, there are so many of them, I don’t even know what’s going on. &lt;br&gt;&lt;br&gt; Tricia: Sure thing, you need a hand ;] &lt;br&gt;&lt;br&gt; Zandra: Thank you so much, what would I do without you… &lt;br&gt;&lt;br&gt; Zandra: But what about the cake, the party is tomorrow! &lt;br&gt;&lt;br&gt; Tricia: You finally realized that… ;) &lt;br&gt;&lt;br&gt; Tricia: They promised to have it tomorrow at Tricia: Zandra: . &lt;br&gt;&lt;br&gt; Zandra: The party starts at Tricia: , it’s way too late! &lt;br&gt;&lt;br&gt; Tricia: I’ll send Erwin to get it, he’ll deliver it to us by bike ;D &lt;br&gt;&lt;br&gt; Zandra: Bike… God save us all… &lt;br&gt;&lt;br&gt; Tricia: He’s a good driver and has a special bag, it will be ok, I promise :* &lt;br&gt;&lt;br&gt; Zandra: Ok, how about the rest? I have all decorations, starting with them in the morning after kids go to grandma &lt;br&gt;&lt;br&gt; Zandra: I know nothing about the food and outside attractions &lt;br&gt;&lt;br&gt; Tricia: Food I’m taking care of, outside thing will be done by a company, they come and organize everything, don’t worry &lt;br&gt;&lt;br&gt; Zandra: You’re the best, I have to make for it &lt;3 &lt;br&gt;&lt;br&gt; Tricia: Nooo, no way, it’s nothing. &lt;br&gt;&lt;br&gt; Tricia: I know it’s not easy for you with 4 children. &lt;br&gt;&lt;br&gt; Zandra: Noo, it’s not, but I regret nothing :* &lt;br&gt;&lt;br&gt; Tricia: And that’s the most important thing! &lt;br&gt; -------------------------------------------------------------------------------------------------- &lt;br&gt;&lt;font color='blue'&gt; Summary: &lt;/font&gt; zandra's daughter , tam , has a birthday tomorrow . the party starts at tricia's place , so erwin will deliver a birthday cake by bike . zandra is taking care of the decorations , tricia of the food and a company of the outside attractions .</td>\n",
       "      <td>0</td>\n",
       "      <td>0</td>\n",
       "      <td>0</td>\n",
       "      <td>0</td>\n",
       "      <td>Any comments?</td>\n",
       "    </tr>\n",
       "  </tbody>\n",
       "</table>\n",
       "</div>"
      ],
      "text/plain": [
       "                                                                                                                                                                                                                                                                                                                                                                                                                                                                                                                                                                                                                                                                                                                                                                                                                                                                                                                                                                                                                                                                                                                                                                                                                                                                                                                                                                                                                                                                                                                                                                                                                                                                                                                                                                                                                                                    texts  \\\n",
       "1104  <br><br> Rita: I need some info on you client. <br><br> Helen: Which one? <br><br> Rita: Salvage Industries. <br><br> Helen: Yeah? What do you need? <br><br> Rita: What's their major business. <br><br> Helen: They are into waste disposal. <br><br> Rita: I thought so. <br><br> Rita: You think they are legit. <br><br> Helen: What do you mean?! <br><br> Helen: Of course, they are legit. <br><br> Rita: Got a favor to ask. Can you double check if they have no PR problems? <br><br> Helen: I don't think so. But I'll check it for you. <br><br> Rita: You are a dear, Helen. <br><br> Helen: I sure am:) <br> -------------------------------------------------------------------------------------------------- <br><font color='blue'> Summary: </font> Helen will double check if Rita's client Salvage Industries is legit.                                                                                                                                                                                                                                                                                                                                                                                                                                                                                                                                                                                                                                                                                                                                                                                                                                                                                                                                                                                                         \n",
       "1105  <br><br> Rita: I need some info on you client. <br><br> Helen: Which one? <br><br> Rita: Salvage Industries. <br><br> Helen: Yeah? What do you need? <br><br> Rita: What's their major business. <br><br> Helen: They are into waste disposal. <br><br> Rita: I thought so. <br><br> Rita: You think they are legit. <br><br> Helen: What do you mean?! <br><br> Helen: Of course, they are legit. <br><br> Rita: Got a favor to ask. Can you double check if they have no PR problems? <br><br> Helen: I don't think so. But I'll check it for you. <br><br> Rita: You are a dear, Helen. <br><br> Helen: I sure am:) <br> -------------------------------------------------------------------------------------------------- <br><font color='blue'> Summary: </font> Rita needs some info on Helen's client Salvage Industries.                                                                                                                                                                                                                                                                                                                                                                                                                                                                                                                                                                                                                                                                                                                                                                                                                                                                                                                                                                                                                    \n",
       "1106  <br><br> Tricia: The cake is still not ready. <br><br> Zandra: Which cake? <br><br> Tricia: For your daughter’s birthday, Tam ;) <br><br> Zandra: Oh, of course, there are so many of them, I don’t even know what’s going on. <br><br> Tricia: Sure thing, you need a hand ;] <br><br> Zandra: Thank you so much, what would I do without you… <br><br> Zandra: But what about the cake, the party is tomorrow! <br><br> Tricia: You finally realized that… ;) <br><br> Tricia: They promised to have it tomorrow at Tricia: Zandra: . <br><br> Zandra: The party starts at Tricia: , it’s way too late! <br><br> Tricia: I’ll send Erwin to get it, he’ll deliver it to us by bike ;D <br><br> Zandra: Bike… God save us all… <br><br> Tricia: He’s a good driver and has a special bag, it will be ok, I promise :* <br><br> Zandra: Ok, how about the rest? I have all decorations, starting with them in the morning after kids go to grandma <br><br> Zandra: I know nothing about the food and outside attractions <br><br> Tricia: Food I’m taking care of, outside thing will be done by a company, they come and organize everything, don’t worry <br><br> Zandra: You’re the best, I have to make for it <3 <br><br> Tricia: Nooo, no way, it’s nothing. <br><br> Tricia: I know it’s not easy for you with 4 children. <br><br> Zandra: Noo, it’s not, but I regret nothing :* <br><br> Tricia: And that’s the most important thing! <br> -------------------------------------------------------------------------------------------------- <br><font color='blue'> Summary: </font> zandra's daughter , tam , has a birthday tomorrow . the party starts at tricia's place , so erwin will deliver a birthday cake by bike . zandra is taking care of the decorations , tricia of the food and a company of the outside attractions .   \n",
       "\n",
       "      coherence_results  consistency_results  relevance_results  \\\n",
       "1104  4                  3                    4                   \n",
       "1105  4                  5                    3                   \n",
       "1106  0                  0                    0                   \n",
       "\n",
       "      fluency_results       comments  \n",
       "1104  5                Any comments?  \n",
       "1105  5                Any comments?  \n",
       "1106  0                Any comments?  "
      ]
     },
     "execution_count": 9,
     "metadata": {},
     "output_type": "execute_result"
    }
   ],
   "source": [
    "# you can use this cell to check up on the current dataframe.\n",
    "# But it is not needed, use the widget for storing data!\n",
    "df.iloc[index-2:index+1]"
   ]
  },
  {
   "cell_type": "code",
   "execution_count": null,
   "metadata": {},
   "outputs": [],
   "source": []
  },
  {
   "cell_type": "code",
   "execution_count": null,
   "metadata": {},
   "outputs": [],
   "source": []
  }
 ],
 "metadata": {
  "kernelspec": {
   "display_name": "Python 3 (ipykernel)",
   "language": "python",
   "name": "python3"
  },
  "language_info": {
   "codemirror_mode": {
    "name": "ipython",
    "version": 3
   },
   "file_extension": ".py",
   "mimetype": "text/x-python",
   "name": "python",
   "nbconvert_exporter": "python",
   "pygments_lexer": "ipython3",
   "version": "3.8.12 (default, Oct 12 2021, 03:01:40) [MSC v.1916 64 bit (AMD64)]"
  },
  "vscode": {
   "interpreter": {
    "hash": "e6f88519aa74d89c62cdcc59414067e256965681425d9b4dee1ef762f1172e6f"
   }
  }
 },
 "nbformat": 4,
 "nbformat_minor": 4
}
