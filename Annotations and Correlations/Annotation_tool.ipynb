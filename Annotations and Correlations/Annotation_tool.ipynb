{
 "cells": [
  {
   "cell_type": "markdown",
   "metadata": {},
   "source": [
    "#### Install"
   ]
  },
  {
   "cell_type": "code",
   "execution_count": null,
   "metadata": {},
   "outputs": [],
   "source": [
    "```pip install ipywidgets```\n",
    "```jupyter nbextension enable --py widgetsnbextension```\n",
    "\n",
    "Can be needed for Mac:\n",
    "Install Node.js for Mac. Download it from the website: https://nodejs.org/en/\n",
    "\n",
    "```jupyter labextension install @jupyter-widgets/jupyterlab-manager```"
   ]
  },
  {
   "cell_type": "code",
   "execution_count": 1,
   "metadata": {},
   "outputs": [],
   "source": [
    "# imports\n",
    "import ipywidgets as w\n",
    "import numpy as np\n",
    "import pandas as pd\n",
    "import csv\n",
    "from collections import defaultdict\n",
    "pd.set_option('display.max_colwidth', 0)"
   ]
  },
  {
   "attachments": {},
   "cell_type": "markdown",
   "metadata": {},
   "source": [
    "#### Explanation\n",
    "This notebook is an annotator tool used for Dialogue Summarization Evaluation.\\\n",
    "The tool itself will explain how each element works. \n",
    "\n",
    "The parameters in the cell below will need to be adapted when stopping the annotation before finishing.\\\n",
    "In that case the load parameter needs to be set to 'True'and the index parameter to the value you were \\\n",
    "given when stopping the annotation.\n",
    "\n",
    "To run the tool, run all cells below and the tool will be shown within the notbook."
   ]
  },
  {
   "cell_type": "markdown",
   "metadata": {},
   "source": [
    "#### Set parameters!"
   ]
  },
  {
   "cell_type": "code",
   "execution_count": 2,
   "metadata": {},
   "outputs": [],
   "source": [
    "load = False            # if not the first time, and you want to load earlier saved data\n",
    "index = 'explanation'   # if loading annotated data, enter index where you left off last time\n",
    "annotator_number = 1        # note which annotator number you have been given\n",
    "# update for your own use\n",
    "path = 'data/original_human_judgment.jsonl'"
   ]
  },
  {
   "cell_type": "markdown",
   "metadata": {},
   "source": [
    "#### Functionality"
   ]
  },
  {
   "cell_type": "code",
   "execution_count": 3,
   "metadata": {},
   "outputs": [],
   "source": [
    "# setting up data\n",
    "if load == False:\n",
    "    data = pd.read_json(path, lines=True)\n",
    "\n",
    "    def htmlivize(val):\n",
    "        return val.replace('|','<br><br>')\n",
    "    data.dialogue = data.dialogue.transform(htmlivize)\n",
    "\n",
    "    line = f\" <br> -------------------------------------------------------------------------------------------------- <br>\"\n",
    "    summary_start = \"<font color='blue'> Summary: </font> \"\n",
    "    data['text'] = data['dialogue'] + line + summary_start + data['summary']\n",
    "\n",
    "    df = pd.DataFrame(list(data.text), columns = ['texts'])\n",
    "\n",
    "    \n",
    "    df['coherence_results'] = 0\n",
    "    df['consistency_results'] = 0\n",
    "    df['relevance_results'] = 0\n",
    "    df['fluency_results'] = 0\n",
    "    df['comments'] = 'Any Comments?'\n",
    "\n",
    "else:\n",
    "    df = pd.read_csv(f'saved_df_ann{annotator_number}.csv', delimiter=';')\n"
   ]
  },
  {
   "cell_type": "code",
   "execution_count": 4,
   "metadata": {},
   "outputs": [],
   "source": [
    "# explanation text\n",
    "explanation =  \"\"\"Welcome to the Annotation Tool.\\\n",
    "<br> You will be presented with 4 sliders that you can adjust. Once you have set the values, click 'Save and Next' and the slider values will be stored in the dataframe.\\\n",
    "<br> The sliders will be set to the stored values whenever you move to a different summary. You can always go back to a previous summary to make any changes.\n",
    "<br> Use the 'Previous' and 'Next' buttons to move between summaries without storing any changes you made to the sliders. \\\n",
    "<br> When you have finished annotating all the summaries, press the 'Finish' button. The dataframe is stored in the data folder.\\\n",
    "<br> If you need to take a break, simply press the 'Pause' button. Your progress will be saved and you can resume where you left off at a later time.\\\n",
    "<br> When you you take a break or finish, youu can go ahead and close the kernel (and notebook).\\\n",
    "<br> <br> To get started, click 'Next' and simply go through each dialogue and annotate the summary.\"\"\""
   ]
  },
  {
   "cell_type": "code",
   "execution_count": 5,
   "metadata": {},
   "outputs": [],
   "source": [
    "# sliders\n",
    "coherence = w.IntSlider(value=3,\n",
    "    min=1,\n",
    "    max=5,\n",
    "    step=1,\n",
    "    description='Coherence:',\n",
    "    disabled=False,\n",
    "    continuous_update=False,\n",
    "    orientation='horizontal',\n",
    "    readout=True,\n",
    "    readout_format='d')\n",
    "\n",
    "consistency = w.IntSlider(value=3,\n",
    "    min=1,\n",
    "    max=5,\n",
    "    step=1,\n",
    "    description='Consistency:',\n",
    "    disabled=False,\n",
    "    continuous_update=False,\n",
    "    orientation='horizontal',\n",
    "    readout=True,\n",
    "    readout_format='d')\n",
    "\n",
    "relevance = w.IntSlider(value=3,\n",
    "    min=1,\n",
    "    max=5,\n",
    "    step=1,\n",
    "    description='Relevance:',\n",
    "    disabled=False,\n",
    "    continuous_update=False,\n",
    "    orientation='horizontal',\n",
    "    readout=True,\n",
    "    readout_format='d')\n",
    "\n",
    "fluency = w.IntSlider(value=3,\n",
    "    min=1,\n",
    "    max=5,\n",
    "    step=1,\n",
    "    description='Fluency:',\n",
    "    disabled=False,\n",
    "    continuous_update=False,\n",
    "    orientation='horizontal',\n",
    "    readout=True,\n",
    "    readout_format='d')\n",
    "\n",
    "comments = w.Textarea(value='Any comments?')"
   ]
  },
  {
   "cell_type": "code",
   "execution_count": 6,
   "metadata": {},
   "outputs": [],
   "source": [
    "# Prepare button functionality\n",
    "def next(b):\n",
    "    global df, index, out, progression\n",
    "    \n",
    "    if index == 'explanation':\n",
    "        index = 0\n",
    "        progress_text.value=f'Current index: {index}'\n",
    "        \n",
    "        comments.value=df.loc[index,'comments']\n",
    "        coherence.value = df.loc[index,'coherence_results']\n",
    "        consistency.value = df.loc[index,'consistency_results']\n",
    "        relevance.value = df.loc[index,'relevance_results']\n",
    "        fluency.value = df.loc[index,'fluency_results']\n",
    "        text = w.HTMLMath(value=df.loc[index, 'texts'])\n",
    "        \n",
    "        with out:\n",
    "            out.clear_output()\n",
    "            display(text)\n",
    "\n",
    "    elif index == len(df):\n",
    "        progress_text.value=f'Current index: {index}'\n",
    "        text = w.HTMLMath(value='STOP <br> You are done!!!')\n",
    "        with out:\n",
    "            out.clear_output()\n",
    "            display(text)\n",
    "\n",
    "    else:\n",
    "        progression.value = index+1\n",
    "        \n",
    "        # add current slider values to df\n",
    "        df.loc[index,'coherence_results'] = coherence.value\n",
    "        df.loc[index,'consistency_results'] = consistency.value\n",
    "        df.loc[index,'relevance_results'] = relevance.value\n",
    "        df.loc[index,'fluency_results'] = fluency.value\n",
    "        df.loc[index, 'comments'] = comments.value\n",
    "\n",
    "        index+=1\n",
    "        if index == len(df):\n",
    "            text = w.HTMLMath(value='STOP <br> You are done!!!')\n",
    "            progress_text.value=f'Current index: {index}'\n",
    "            \n",
    "            with out:\n",
    "                out.clear_output()\n",
    "                display(text)\n",
    "        \n",
    "        else:\n",
    "            comments.value=df.loc[index,'comments']\n",
    "            coherence.value = df.loc[index,'coherence_results']\n",
    "            consistency.value = df.loc[index,'consistency_results']\n",
    "            relevance.value = df.loc[index,'relevance_results']\n",
    "            fluency.value = df.loc[index,'fluency_results']\n",
    "\n",
    "            progress_text.value=f'Current index: {index}'\n",
    "            text = w.HTMLMath(value=df.loc[index, 'texts'])\n",
    "            # was trying to update the texts show, but does not work\n",
    "            with out:\n",
    "                out.clear_output()\n",
    "                display(text)\n",
    "\n",
    "def small_next(b):\n",
    "    # update position\n",
    "    global df, index, out, progression\n",
    "\n",
    "    if index == 'explanation':\n",
    "        index = 0\n",
    "        progression.value = index+1\n",
    "\n",
    "        comments.value=df.loc[index,'comments']\n",
    "        coherence.value = df.loc[index,'coherence_results']\n",
    "        consistency.value = df.loc[index,'consistency_results']\n",
    "        relevance.value = df.loc[index,'relevance_results']\n",
    "        fluency.value = df.loc[index,'fluency_results']\n",
    "\n",
    "    else:\n",
    "        index += 1\n",
    "    \n",
    "    if index == len(df):\n",
    "        index=0\n",
    "\n",
    "    progress_text.value=f'Current index: {index}'\n",
    "    \n",
    "    comments.value=df.loc[index,'comments']\n",
    "    coherence.value = df.loc[index,'coherence_results']\n",
    "    consistency.value = df.loc[index,'consistency_results']\n",
    "    relevance.value = df.loc[index,'relevance_results']\n",
    "    fluency.value = df.loc[index,'fluency_results']\n",
    "\n",
    "\n",
    "    # refresh display\n",
    "    text = w.HTMLMath(value=df.loc[index, 'texts'])\n",
    "    with out:\n",
    "        out.clear_output()\n",
    "        display(text)\n",
    "\n",
    "def back(b):\n",
    "    # update position\n",
    "    global df, index, out, progression\n",
    "\n",
    "    if index == 'explanation':\n",
    "        progression.value = 0\n",
    "        index = 'explanation'\n",
    "        progress_text.value=f'Current index: {index}'\n",
    "        text = w.HTMLMath(value=explanation)\n",
    "\n",
    "    else:\n",
    "        index -= 1\n",
    "        if index == -1:\n",
    "            progression.value = 0\n",
    "            index = 'explanation'\n",
    "            progress_text.value=f'Current index: {index}'\n",
    "            text = w.HTMLMath(value=explanation)\n",
    "\n",
    "        \n",
    "\n",
    "        else:\n",
    "            progression.value = index+1\n",
    "            progress_text.value=f'Current index: {index}'\n",
    "\n",
    "            comments.value = df.loc[index,'comments']\n",
    "            coherence.value = df.loc[index,'coherence_results']\n",
    "            consistency.value = df.loc[index,'consistency_results']\n",
    "            relevance.value = df.loc[index,'relevance_results']\n",
    "            fluency.value = df.loc[index,'fluency_results']\n",
    "\n",
    "            text = w.HTMLMath(value=df.loc[index, 'texts'])\n",
    "        \n",
    "        with out:\n",
    "            out.clear_output()\n",
    "            display(text)\n",
    "\n",
    "def pause_annotation(b):\n",
    "    global index, df\n",
    "    # store temp data\n",
    "    df.to_csv(f'saved_df_ann{annotator_number}.csv', sep=';',index=False)\n",
    "\n",
    "    text = w.HTMLMath(value=f'You paused annotation! Data is stored on your local drive. <br>\\\n",
    "                            Next time, add below index in top of notebook to continue where you left off.\\\n",
    "                            <br><br> Stopped at index: {index}')\n",
    "    with out:\n",
    "        out.clear_output()\n",
    "        display(text)\n",
    "\n",
    "\n",
    "def finish(b):\n",
    "    global df\n",
    "    # store data\n",
    "    df.to_csv(f'saved_df_ann{annotator_number}.csv', sep=';',index=False)\n",
    "\n",
    "\n",
    "    # notify user\n",
    "    text = w.HTMLMath(value=f'You have finished annotating! The data is stored on the drive')\n",
    "    with out:\n",
    "        out.clear_output()\n",
    "        display(text)\n"
   ]
  },
  {
   "cell_type": "code",
   "execution_count": 7,
   "metadata": {},
   "outputs": [],
   "source": [
    "# Compose widget\n",
    "\n",
    "# set initial Dialogue\n",
    "if index == 'explanation':\n",
    "    text = w.HTMLMath(value=explanation)\n",
    "    \n",
    "else:\n",
    "    text = w.HTMLMath(value=df.loc[index, 'texts'])\n",
    "\n",
    "out = w.Output()\n",
    "with out:\n",
    "    out.clear_output()\n",
    "    display(text)\n",
    "\n",
    "# save work button\n",
    "forward = w.Button(description='Save and Next', icon='forward')\n",
    "forward.on_click(next)\n",
    "small_forward = w.Button(description='Next', icon='arrow-right')\n",
    "small_forward.on_click(small_next)\n",
    "\n",
    "previous =  w.Button(description='Previous',icon='arrow-left')\n",
    "previous.on_click(back)\n",
    "\n",
    "pause = w.Button(description='Pause and store data',icon='download')\n",
    "pause.on_click(pause_annotation)\n",
    "fin = w.Button(description='Finish',icon='check')\n",
    "fin.on_click(finish)\n",
    "\n",
    "progression_bar = w.IntProgress(\n",
    "    value=0,\n",
    "    min=0,\n",
    "    max=len(df),\n",
    "    description='Progress',\n",
    "    bar_style='', # 'success', 'info', 'warning', 'danger' or ''\n",
    "    style={'bar_color': 'cyan'},\n",
    "    orientation='horizontal'\n",
    ")\n",
    "\n",
    "progress_text = w.HTMLMath(value=f'Current index: {index}')\n",
    "\n",
    "\n",
    "# sliders & buttons\n",
    "sliders = w.VBox([relevance, consistency, fluency, coherence])\n",
    "buttons = w.HBox([previous, small_forward, forward, pause, fin])\n",
    "progression = w.HBox([progression_bar, progress_text])"
   ]
  },
  {
   "cell_type": "markdown",
   "metadata": {},
   "source": [
    "#### Run!"
   ]
  },
  {
   "cell_type": "code",
   "execution_count": 8,
   "metadata": {},
   "outputs": [
    {
     "data": {
      "application/vnd.jupyter.widget-view+json": {
       "model_id": "8a094f181c404d8ea91e91d12cd0d41e",
       "version_major": 2,
       "version_minor": 0
      },
      "text/plain": [
       "Output(outputs=({'output_type': 'display_data', 'data': {'text/plain': 'HTMLMath(value=\"Welcome to the Annotat…"
      ]
     },
     "metadata": {},
     "output_type": "display_data"
    },
    {
     "data": {
      "application/vnd.jupyter.widget-view+json": {
       "model_id": "45ae33336c8144dab04c8c8cb648ed13",
       "version_major": 2,
       "version_minor": 0
      },
      "text/plain": [
       "VBox(children=(IntSlider(value=3, continuous_update=False, description='Relevance:', max=5, min=1), IntSlider(…"
      ]
     },
     "metadata": {},
     "output_type": "display_data"
    },
    {
     "data": {
      "application/vnd.jupyter.widget-view+json": {
       "model_id": "9ced70b7e0f44c079d8b3fc6fca8a00f",
       "version_major": 2,
       "version_minor": 0
      },
      "text/plain": [
       "Textarea(value='Any comments?')"
      ]
     },
     "metadata": {},
     "output_type": "display_data"
    },
    {
     "data": {
      "application/vnd.jupyter.widget-view+json": {
       "model_id": "0780c783323845d7aeba2e281b1a4e3a",
       "version_major": 2,
       "version_minor": 0
      },
      "text/plain": [
       "HBox(children=(IntProgress(value=0, description='Progress', max=1400, style=ProgressStyle(bar_color='cyan')), …"
      ]
     },
     "metadata": {},
     "output_type": "display_data"
    },
    {
     "data": {
      "application/vnd.jupyter.widget-view+json": {
       "model_id": "48f9a642751f4c0d83f868cfafc495ed",
       "version_major": 2,
       "version_minor": 0
      },
      "text/plain": [
       "HBox(children=(Button(description='Previous', icon='arrow-left', style=ButtonStyle()), Button(description='Nex…"
      ]
     },
     "metadata": {},
     "output_type": "display_data"
    }
   ],
   "source": [
    "# run widget\n",
    "display(out)\n",
    "display(sliders)\n",
    "display(comments)\n",
    "display(progression)\n",
    "display(buttons)"
   ]
  },
  {
   "cell_type": "code",
   "execution_count": 10,
   "metadata": {},
   "outputs": [],
   "source": [
    "# you can use this cell to check up on the current dataframe.\n",
    "# But it is not needed, use the widget for storing data!\n",
    "# df.iloc[index-2:index+1]"
   ]
  }
 ],
 "metadata": {
  "kernelspec": {
   "display_name": "Python 3 (ipykernel)",
   "language": "python",
   "name": "python3"
  },
  "language_info": {
   "codemirror_mode": {
    "name": "ipython",
    "version": 3
   },
   "file_extension": ".py",
   "mimetype": "text/x-python",
   "name": "python",
   "nbconvert_exporter": "python",
   "pygments_lexer": "ipython3",
   "version": "3.8.12 (default, Oct 12 2021, 03:01:40) [MSC v.1916 64 bit (AMD64)]"
  },
  "vscode": {
   "interpreter": {
    "hash": "e6f88519aa74d89c62cdcc59414067e256965681425d9b4dee1ef762f1172e6f"
   }
  }
 },
 "nbformat": 4,
 "nbformat_minor": 4
}
